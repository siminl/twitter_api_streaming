{
 "cells": [
  {
   "cell_type": "code",
   "execution_count": 14,
   "metadata": {
    "collapsed": false
   },
   "outputs": [],
   "source": [
    "%matplotlib inline\n",
    "\n",
    "import json\n",
    "import pandas as pd\n",
    "import matplotlib.pyplot as plt"
   ]
  },
  {
   "cell_type": "code",
   "execution_count": 15,
   "metadata": {
    "collapsed": true
   },
   "outputs": [],
   "source": [
    "tweets_data_path = '/Users/Simin/Documents/TwitterAPI/twitter_stream.txt'\n",
    "tweets_data = []\n",
    "tweets_file = open(tweets_data_path, \"r\")\n",
    "for line in tweets_file:\n",
    "    try:\n",
    "        tweet = json.loads(line)\n",
    "        tweets_data.append(tweet)\n",
    "    except:\n",
    "        continue"
   ]
  },
  {
   "cell_type": "code",
   "execution_count": 16,
   "metadata": {
    "collapsed": false
   },
   "outputs": [
    {
     "name": "stdout",
     "output_type": "stream",
     "text": [
      "31\n"
     ]
    }
   ],
   "source": [
    "print len(tweets_data)"
   ]
  },
  {
   "cell_type": "code",
   "execution_count": 28,
   "metadata": {
    "collapsed": true
   },
   "outputs": [],
   "source": [
    "tweets = pd.DataFrame()"
   ]
  },
  {
   "cell_type": "code",
   "execution_count": 29,
   "metadata": {
    "collapsed": false
   },
   "outputs": [],
   "source": [
    "tweets['created_at'] = map(lambda tweet: tweet['created_at'], tweets_data)\n",
    "tweets['id_str'] = map(lambda tweet: tweet['id_str'], tweets_data)\n",
    "tweets['lang'] = map(lambda tweet: tweet['lang'], tweets_data)\n",
    "tweets['country'] = map(lambda tweet: tweet['place']['country'] if tweet['place'] != None else None, tweets_data)\n",
    "tweets['in_reply_to_status_id_str'] = map(lambda tweet: tweet['in_reply_to_status_id_str'], tweets_data)\n",
    "#tweets['quoted_status_id_str'] = map(lambda tweet: tweet['quoted_status_id_str'] if  tweet['quoted_status_id_str']!= None else None, tweets_data)\n",
    "tweets['retweet_count'] = map(lambda tweet: tweet['retweet_count'], tweets_data)\n",
    "tweets['retweeted'] = map(lambda tweet: tweet['retweeted'], tweets_data)\n",
    "tweets['favorite_count'] = map(lambda tweet: tweet['favorite_count'], tweets_data)\n",
    "tweets['favorited'] = map(lambda tweet: tweet['favorited'], tweets_data)\n",
    "tweets['text'] = map(lambda tweet: tweet['text'], tweets_data)\n"
   ]
  },
  {
   "cell_type": "code",
   "execution_count": 36,
   "metadata": {
    "collapsed": true
   },
   "outputs": [],
   "source": [
    "# parse time from string to datetime\n",
    "from datetime import datetime\n",
    "from datetime import date\n",
    "\n",
    "date_object = datetime.strptime('Jun 1 2005  1:33PM', '%b %d %Y %I:%M%p')"
   ]
  },
  {
   "cell_type": "code",
   "execution_count": 37,
   "metadata": {
    "collapsed": false
   },
   "outputs": [
    {
     "name": "stdout",
     "output_type": "stream",
     "text": [
      "2005-06-01 13:33:00\n"
     ]
    }
   ],
   "source": [
    "print date_object"
   ]
  },
  {
   "cell_type": "code",
   "execution_count": 42,
   "metadata": {
    "collapsed": false
   },
   "outputs": [
    {
     "name": "stdout",
     "output_type": "stream",
     "text": [
      "True\n",
      "Wed Jun  1 01:01:01 2005\n"
     ]
    }
   ],
   "source": [
    "print date_object> datetime(2005,6,1,1,1,1)\n",
    "print datetime(2005,6,1,1,1,1).ctime()"
   ]
  },
  {
   "cell_type": "code",
   "execution_count": 30,
   "metadata": {
    "collapsed": false
   },
   "outputs": [
    {
     "name": "stdout",
     "output_type": "stream",
     "text": [
      "                        created_at              id_str lang country  \\\n",
      "0   Tue Sep 13 17:24:26 +0000 2016  775746975459340288   en    None   \n",
      "1   Tue Sep 13 17:24:30 +0000 2016  775746991318073344   ru    None   \n",
      "2   Tue Sep 13 17:24:31 +0000 2016  775746999333318656   en    None   \n",
      "3   Tue Sep 13 17:23:20 +0000 2016  775746700682100736   en    None   \n",
      "4   Tue Sep 13 17:24:32 +0000 2016  775747002583945216   it    None   \n",
      "5   Tue Sep 13 17:24:34 +0000 2016  775747011303858176   en    None   \n",
      "6   Tue Sep 13 17:24:36 +0000 2016  775747016831954944   fr    None   \n",
      "7   Tue Sep 13 17:24:36 +0000 2016  775747018731900928   en    None   \n",
      "8   Tue Sep 13 17:24:39 +0000 2016  775747028886315009   en    None   \n",
      "9   Tue Sep 13 17:24:39 +0000 2016  775747029683273728   es    None   \n",
      "10  Tue Sep 13 17:24:39 +0000 2016  775747031423942656   en    None   \n",
      "11  Tue Sep 13 17:24:40 +0000 2016  775747035194658816   en    None   \n",
      "12  Tue Sep 13 17:24:41 +0000 2016  775747038625628164   en    None   \n",
      "13  Tue Sep 13 17:24:41 +0000 2016  775747040814829569   en    None   \n",
      "14  Tue Sep 13 17:24:45 +0000 2016  775747056082182144   en    None   \n",
      "15  Tue Sep 13 17:24:45 +0000 2016  775747057629949952   en    None   \n",
      "16  Tue Sep 13 17:24:46 +0000 2016  775747061274714112   en    None   \n",
      "17  Tue Sep 13 17:24:48 +0000 2016  775747066559537152   en    None   \n",
      "18  Tue Sep 13 17:24:49 +0000 2016  775747073299910656   en    None   \n",
      "19  Tue Sep 13 17:24:16 +0000 2016  775746934502002688   en    None   \n",
      "20  Tue Sep 13 17:24:50 +0000 2016  775747075237478401   ja    None   \n",
      "21  Tue Sep 13 17:24:50 +0000 2016  775747078341300225   en    None   \n",
      "22  Tue Sep 13 17:24:53 +0000 2016  775747087736590336   sv    None   \n",
      "23  Tue Sep 13 17:24:53 +0000 2016  775747088692817920   ja    None   \n",
      "24  Tue Sep 13 17:24:54 +0000 2016  775747095252828160   en    None   \n",
      "25  Tue Sep 13 17:24:56 +0000 2016  775747101301039104   fr    None   \n",
      "26  Tue Sep 13 17:24:56 +0000 2016  775747102194270208   en    None   \n",
      "27  Tue Sep 13 17:25:01 +0000 2016  775747124843556864   en    None   \n",
      "28  Tue Sep 13 17:25:03 +0000 2016  775747132447793152   en    None   \n",
      "29  Tue Sep 13 17:25:04 +0000 2016  775747133995642881   en    None   \n",
      "30  Tue Sep 13 17:25:05 +0000 2016  775747141885169665   en    None   \n",
      "\n",
      "   in_reply_to_status_id_str  retweet_count retweeted  favorite_count  \\\n",
      "0                       None              0     False               0   \n",
      "1                       None              0     False               0   \n",
      "2                       None              0     False               0   \n",
      "3                       None              0     False               0   \n",
      "4                       None              0     False               0   \n",
      "5                       None              0     False               0   \n",
      "6                       None              0     False               0   \n",
      "7                       None              0     False               0   \n",
      "8                       None              0     False               0   \n",
      "9         775745918314225664              0     False               0   \n",
      "10                      None              0     False               0   \n",
      "11                      None              0     False               0   \n",
      "12                      None              0     False               0   \n",
      "13                      None              0     False               0   \n",
      "14                      None              0     False               0   \n",
      "15                      None              0     False               0   \n",
      "16                      None              0     False               0   \n",
      "17                      None              0     False               0   \n",
      "18                      None              0     False               0   \n",
      "19                      None              0     False               0   \n",
      "20                      None              0     False               0   \n",
      "21                      None              0     False               0   \n",
      "22                      None              0     False               0   \n",
      "23                      None              0     False               0   \n",
      "24                      None              0     False               0   \n",
      "25                      None              0     False               0   \n",
      "26                      None              0     False               0   \n",
      "27                      None              0     False               0   \n",
      "28                      None              0     False               0   \n",
      "29                      None              0     False               0   \n",
      "30                      None              0     False               0   \n",
      "\n",
      "   favorited                                               text  \n",
      "0      False  Fashion New Red Ruby  Beads Necklace 17'' and ...  \n",
      "1      False  «Коварный JavaScript» — новый выпуск проекта «...  \n",
      "2      False            thx Ruby 😭👌🏼 https://t.co/DsN0mxkgWv  \n",
      "3      False  Oil glut to continue into 2017, says Natalie P...  \n",
      "4      False               madonna ma ruby rose esiste davvero?  \n",
      "5      False  $1,199 Vintage 14k Yellow Gold .68ctw H-SI Dia...  \n",
      "6      False  RT @TEEK_easy: Quelques raisons pour lesquelle...  \n",
      "7      False  ♥∫ Genuine Ruby Necklaces, Perfect layering ne...  \n",
      "8      False  \"Aurelia\" - Rhodonite in Quartz Anklet Bracele...  \n",
      "9      False  @AeykRedheart El lolismo la supera.\\nLlojane e...  \n",
      "10     False  no need to switch the backs of ur #earrings wi...  \n",
      "11     False  From HTML5 to Ruby to Python &amp; Beyond: Bec...  \n",
      "12     False  $1,199 Vintage 14k Yellow Gold .68ctw H-SI Dia...  \n",
      "13     False  Ruby just bought me a desk for my room. I shou...  \n",
      "14     False  RT @hardmaru: Simple JavaScript RL demo explor...  \n",
      "15     False  RT @ItsOITNBQuotes: lets all take a moment to ...  \n",
      "16     False  A Book Apart, Javascript for Web Designers: If...  \n",
      "17     False  \"Aurelia\" -- Rhodonite in Quartz Anklet Bracel...  \n",
      "18     False  RT @_SharonCamacho: Animation, Videogames,  Mi...  \n",
      "19     False  Watch: David Cameron Discusses the Fabric Dile...  \n",
      "20     False  HTML・CSS・JavaScriptを独学するのにおすすめの入門書・参考書まとめ-http...  \n",
      "21     False  JavaScript Dev 100% REMOTE!Fortune Top 1 - Sal...  \n",
      "22     False  Data Scientist - Python,R,Data Mining - Draper...  \n",
      "23     False  WEB/フロントエンド/CLI/Python/AWS/Apache/MySQL/JavaSc...  \n",
      "24     False  #3265 Orbit Baby Toddler Car Seat G2 - Ruby Re...  \n",
      "25     False  RT @TEEK_easy: Quelques raisons pour lesquelle...  \n",
      "26     False  Check out \"Aurelia\" - Rhodonite in Quartz Ankl...  \n",
      "27     False  RT @mongrovejorodr5: Fashion New Red Ruby  Bea...  \n",
      "28     False  Loop Game Created using #Storyline2 and #JavaS...  \n",
      "29     False  Pearls Wedding Jewelry | Pearl Traditional Jew...  \n",
      "30     False  Javascript library that runs any .vi on browse...  \n"
     ]
    }
   ],
   "source": [
    "print tweets"
   ]
  },
  {
   "cell_type": "code",
   "execution_count": 19,
   "metadata": {
    "collapsed": false
   },
   "outputs": [
    {
     "data": {
      "text/plain": [
       "<matplotlib.axes._subplots.AxesSubplot at 0x1068e7690>"
      ]
     },
     "execution_count": 19,
     "metadata": {},
     "output_type": "execute_result"
    },
    {
     "data": {
      "image/png": "[encoded data removed]",
      "text/plain": [
       "<matplotlib.figure.Figure at 0x10696cad0>"
      ]
     },
     "metadata": {},
     "output_type": "display_data"
    }
   ],
   "source": [
    "tweets_by_lang = tweets['lang'].value_counts()\n",
    "\n",
    "fig, ax = plt.subplots()\n",
    "ax.tick_params(axis='x', labelsize=15)\n",
    "ax.tick_params(axis='y', labelsize=10)\n",
    "ax.set_xlabel('Languages', fontsize=15)\n",
    "ax.set_ylabel('Number of tweets' , fontsize=15)\n",
    "ax.set_title('Top 5 languages', fontsize=15, fontweight='bold')\n",
    "tweets_by_lang[:5].plot(ax=ax, kind='bar', color='red')"
   ]
  },
  {
   "cell_type": "code",
   "execution_count": null,
   "metadata": {
    "collapsed": true
   },
   "outputs": [],
   "source": []
  }
 ],
 "metadata": {
  "kernelspec": {
   "display_name": "Python 2",
   "language": "python",
   "name": "python2"
  },
  "language_info": {
   "codemirror_mode": {
    "name": "ipython",
    "version": 2
   },
   "file_extension": ".py",
   "mimetype": "text/x-python",
   "name": "python",
   "nbconvert_exporter": "python",
   "pygments_lexer": "ipython2",
   "version": "2.7.11"
  }
 },
 "nbformat": 4,
 "nbformat_minor": 0
}
